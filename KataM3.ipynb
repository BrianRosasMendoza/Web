{
 "cells": [
  {
   "cell_type": "markdown",
   "metadata": {},
   "source": [
    "Asteroide se acerca"
   ]
  },
  {
   "cell_type": "code",
   "execution_count": 7,
   "metadata": {},
   "outputs": [
    {
     "name": "stdout",
     "output_type": "stream",
     "text": [
      "Corran todos, vamos a morir\n"
     ]
    }
   ],
   "source": [
    "asteroide = 49\n",
    "if asteroide > 25:\n",
    "    print(\"Corran todos, vamos a morir\")\n",
    "else:\n",
    "        print(\"Todo bien, no se preocupen\")\n",
    "    "
   ]
  },
  {
   "cell_type": "code",
   "execution_count": 10,
   "metadata": {},
   "outputs": [
    {
     "name": "stdout",
     "output_type": "stream",
     "text": [
      "Mira al cielo, no hay nada jajaja\n"
     ]
    }
   ],
   "source": [
    "asteroide = 19\n",
    "if asteroide > 20:\n",
    "    print(\"Mira al cielo, hay una lucecita bonita\")\n",
    "elif asteroide == 20:\n",
    "    print(\"Mira que bonita luz en el cielo\")\n",
    "else:\n",
    "    print(\"Mira al cielo, no hay nada jajaja\")"
   ]
  },
  {
   "cell_type": "code",
   "execution_count": 13,
   "metadata": {},
   "outputs": [
    {
     "name": "stdout",
     "output_type": "stream",
     "text": [
      "No hay luces en el cielo\n"
     ]
    }
   ],
   "source": [
    "velocidadAs = 19\n",
    "tamañoAs = 20\n",
    "if velocidadAs >= 25 and tamañoAs >= 25:\n",
    "    print(\"Corran todos, ahora sí nos vamos a morir\")\n",
    "elif velocidadAs > 20 and tamañoAs < 25:\n",
    "    print(\"Mira el cielo, que bonita luz\")\n",
    "elif velocidadAs < 20:\n",
    "    print(\"No hay luces en el cielo\")\n",
    "else:\n",
    "    print(\"Nada nuevo por aqui\")"
   ]
  }
 ],
 "metadata": {
  "interpreter": {
   "hash": "aee8b7b246df8f9039afb4144a1f6fd8d2ca17a180786b69acc140d282b71a49"
  },
  "kernelspec": {
   "display_name": "Python 3.10.2 64-bit",
   "language": "python",
   "name": "python3"
  },
  "language_info": {
   "codemirror_mode": {
    "name": "ipython",
    "version": 3
   },
   "file_extension": ".py",
   "mimetype": "text/x-python",
   "name": "python",
   "nbconvert_exporter": "python",
   "pygments_lexer": "ipython3",
   "version": "3.10.2"
  },
  "orig_nbformat": 4
 },
 "nbformat": 4,
 "nbformat_minor": 2
}
