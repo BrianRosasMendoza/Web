{
 "cells": [
  {
   "cell_type": "code",
   "execution_count": 5,
   "metadata": {},
   "outputs": [
    {
     "name": "stdout",
     "output_type": "stream",
     "text": [
      "La fecha de hoy es:  2022-02-06\n"
     ]
    }
   ],
   "source": [
    "#Se importa biblioteca\n",
    "from datetime import date\n",
    "#Se obtiene fecha\n",
    "date.today\n",
    "print(\"La fecha de hoy es: \", date.today())"
   ]
  },
  {
   "cell_type": "code",
   "execution_count": 16,
   "metadata": {},
   "outputs": [
    {
     "name": "stdout",
     "output_type": "stream",
     "text": [
      "11 parsecs, son 35.877159999999996 años luz\n"
     ]
    }
   ],
   "source": [
    "parsecs = 11\n",
    "añosluz = 3.26156 * parsecs\n",
    "print(str(parsecs) + \" parsecs, son \" + str(añosluz) + \" años luz\")"
   ]
  }
 ],
 "metadata": {
  "language_info": {
   "name": "python"
  },
  "orig_nbformat": 4
 },
 "nbformat": 4,
 "nbformat_minor": 2
}
